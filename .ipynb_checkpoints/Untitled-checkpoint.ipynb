{
 "cells": [
  {
   "cell_type": "code",
   "execution_count": 1,
   "metadata": {},
   "outputs": [
    {
     "ename": "ModuleNotFoundError",
     "evalue": "No module named 'pandas'",
     "output_type": "error",
     "traceback": [
      "\u001b[0;31m---------------------------------------------------------------------------\u001b[0m",
      "\u001b[0;31mModuleNotFoundError\u001b[0m                       Traceback (most recent call last)",
      "\u001b[0;32m<ipython-input-1-1f4c334d1b3a>\u001b[0m in \u001b[0;36m<module>\u001b[0;34m()\u001b[0m\n\u001b[1;32m      1\u001b[0m \u001b[0;32mimport\u001b[0m \u001b[0mnumpy\u001b[0m \u001b[0;32mas\u001b[0m \u001b[0mnp\u001b[0m\u001b[0;34m\u001b[0m\u001b[0m\n\u001b[0;32m----> 2\u001b[0;31m \u001b[0;32mimport\u001b[0m \u001b[0mpandas\u001b[0m \u001b[0;32mas\u001b[0m \u001b[0mpd\u001b[0m\u001b[0;34m\u001b[0m\u001b[0m\n\u001b[0m\u001b[1;32m      3\u001b[0m \u001b[0;32mimport\u001b[0m \u001b[0mos\u001b[0m\u001b[0;34m\u001b[0m\u001b[0m\n\u001b[1;32m      4\u001b[0m \u001b[0;32mimport\u001b[0m \u001b[0mre\u001b[0m\u001b[0;34m\u001b[0m\u001b[0m\n\u001b[1;32m      5\u001b[0m \u001b[0;32mimport\u001b[0m \u001b[0mglob\u001b[0m\u001b[0;34m\u001b[0m\u001b[0m\n",
      "\u001b[0;31mModuleNotFoundError\u001b[0m: No module named 'pandas'"
     ]
    }
   ],
   "source": [
    "import numpy as np\n",
    "import os\n",
    "import re\n",
    "import glob\n",
    "from skbio import Protein\n",
    "from skbio.alignment import local_pairwise_align, TabularMSA\n",
    "import itertools \n",
    "from sklearn.metrics import roc_curve, auc\n",
    "import matplotlib.pyplot as plt\n",
    "import pandas as pd"
   ]
  },
  {
   "cell_type": "code",
   "execution_count": 2,
   "metadata": {},
   "outputs": [],
   "source": [
    "def read_fasta(fp):\n",
    "    name, seq = None, []\n",
    "    for line in fp:\n",
    "        line = line.rstrip()\n",
    "        if line.startswith(\">\"):\n",
    "            if name: yield (name, ''.join(seq))\n",
    "            name, seq = line, []\n",
    "        else:\n",
    "            seq.append(line)\n",
    "    if name: yield (name, ''.join(seq))\n",
    "\n",
    "def get_sequences(dir):\n",
    "    files = glob.glob(dir + '/*.fa')\n",
    "    sequences = []\n",
    "    for filepath in glob.iglob(os.path.join(dir, \"*.fa\")):\n",
    "        with open(filepath) as fp:\n",
    "            for name, seq in read_fasta(fp):\n",
    "                sequences.append(seq)\n",
    "    print(\"Read in %d fasta files\"%len(files))\n",
    "    return sequences"
   ]
  },
  {
   "cell_type": "code",
   "execution_count": 3,
   "metadata": {},
   "outputs": [],
   "source": [
    "def get_negpair_seq(filepath, negpairlist_filename):\n",
    "    '''\n",
    "    Get sequences for negative pairs.\n",
    "    Input: Directory for all the sequences\n",
    "    Output: List of negative pairs sequences\n",
    "    '''\n",
    "    files = glob.glob(filepath + '/*.fa')\n",
    "    negpair_list = open(negpairlist_filename).read().splitlines()\n",
    "    neg_files, neg_files2 = [],[]\n",
    "    negpair_sequences, negpair2_sequences  = [], []\n",
    "    for seq_file in files:\n",
    "        for negpair in negpair_list:\n",
    "            if negpair[10:22] in seq_file[-12:]:\n",
    "                neg_files.append(seq_file)\n",
    "            if negpair[33:] in seq_file[-12:]:\n",
    "                neg_files2.append(seq_file)\n",
    "    for neg_file in neg_files:\n",
    "        with open(neg_file) as neg:\n",
    "            for name, neg_seq in read_fasta(neg):\n",
    "                negpair_sequences.append(neg_seq)\n",
    "    for neg_file in neg_files2:\n",
    "        with open(neg_file) as neg:\n",
    "            for name, neg2_seq in read_fasta(neg):\n",
    "                negpair2_sequences.append(neg2_seq)\n",
    "    #Some of the sequences has \"x\" as a gap. I'm replacing those 'x's with '-'\n",
    "    #so it works with skbio package. Not really a good way but it works.\n",
    "    without_x = [s for s in negpair2_sequences if 'x' not in s]\n",
    "    with_x= [s for s in negpair2_sequences if 'x' in s]\n",
    "    with_x =' '.join(with_x)\n",
    "    with_x = with_x.replace('x', '*')\n",
    "    without_x.append(with_x)\n",
    "    negpair2_sequences = without_x\n",
    "    \n",
    "    print(\"Read in %d negative pair fasta files\" %len(negpair_sequences))\n",
    "    print(\"Read in %d negative pair fasta files\" %len(negpair2_sequences))\n",
    "    return negpair_sequences, negpair2_sequences\n",
    "\n",
    "def get_pospair_seq(filepath,pospairlist_filename):\n",
    "    '''\n",
    "    Get sequences for positive pairs.\n",
    "    Input: Directory for all the sequences\n",
    "    Output: List of positive pairs sequences\n",
    "    '''\n",
    "    files = glob.glob(filepath + '/*.fa')\n",
    "    pospair_list = open(pospairlist_filename).read().splitlines()\n",
    "    pos_files,pos2_files = [],[]\n",
    "    pospair_sequences,pospair2_sequences = [],[]\n",
    "    for seq_file in files:\n",
    "        for pospair in pospair_list:\n",
    "            if pospair[10:22] in seq_file[-12:]:\n",
    "                pos_files.append(seq_file)\n",
    "            if pospair[33:] in seq_file[-12:]:\n",
    "                pos2_files.append(seq_file)\n",
    "    for pos_file in pos_files:\n",
    "        with open(pos_file) as pos:\n",
    "            for name, pos_seq in read_fasta(pos):\n",
    "                pospair_sequences.append(pos_seq)\n",
    "    for pos_file in pos2_files:\n",
    "        with open(pos_file) as pos:\n",
    "            for name, pos2_seq in read_fasta(pos):\n",
    "                pospair2_sequences.append(pos2_seq)    \n",
    "    print(\"Read in %d positive pair fasta files\" %len(pospair_sequences))\n",
    "    print(\"Read in %d positive pair fasta files\" %len(pospair2_sequences))\n",
    "    return pospair_sequences, pospair2_sequences"
   ]
  },
  {
   "cell_type": "code",
   "execution_count": 4,
   "metadata": {},
   "outputs": [],
   "source": [
    "def read_score_matrix(filepath):\n",
    "    with open(filepath) as mat:\n",
    "        matrix = mat.read()\n",
    "        lines = matrix.strip().split('\\n')\n",
    "        score_matrix = []\n",
    "        for line in lines:\n",
    "            if not line.startswith(\"#\"):\n",
    "                score_matrix.append(line)\n",
    "    aas_column = pd.DataFrame(score_matrix[0].strip().split(\"  \"))\n",
    "    scores = []\n",
    "    for i in range(len(score_matrix)-1):\n",
    "        ls = score_matrix[i+1].strip()\n",
    "        new = ls.split(\" \")\n",
    "        sub = []\n",
    "        for n in new:\n",
    "            if n != \"\":\n",
    "                sub.append(int(n))\n",
    "        scores.append(sub)\n",
    "        score_df = pd.DataFrame(scores)\n",
    "        score_df.columns = score_matrix[0].strip().split(\"  \")\n",
    "    df_score = aas_column.join(score_df)\n",
    "    df_score = df_score.set_index([0])\n",
    "    return df_score"
   ]
  },
  {
   "cell_type": "code",
   "execution_count": 5,
   "metadata": {},
   "outputs": [
    {
     "ename": "NameError",
     "evalue": "name 'glob' is not defined",
     "output_type": "error",
     "traceback": [
      "\u001b[0;31m---------------------------------------------------------------------------\u001b[0m",
      "\u001b[0;31mNameError\u001b[0m                                 Traceback (most recent call last)",
      "\u001b[0;32m<ipython-input-5-6cddf2d7990a>\u001b[0m in \u001b[0;36m<module>\u001b[0;34m()\u001b[0m\n\u001b[1;32m      2\u001b[0m \u001b[0mnegpairlist_filename\u001b[0m \u001b[0;34m=\u001b[0m \u001b[0;34m'/Users/student/Winter2018/Algorithms/hw3_BMI203/Negpairs.txt'\u001b[0m\u001b[0;34m\u001b[0m\u001b[0m\n\u001b[1;32m      3\u001b[0m \u001b[0mpospairlist_filename\u001b[0m \u001b[0;34m=\u001b[0m \u001b[0;34m'/Users/student/Winter2018/Algorithms/hw3_BMI203/Pospairs.txt'\u001b[0m\u001b[0;34m\u001b[0m\u001b[0m\n\u001b[0;32m----> 4\u001b[0;31m \u001b[0mnegpairs1\u001b[0m\u001b[0;34m,\u001b[0m \u001b[0mnegpairs2\u001b[0m \u001b[0;34m=\u001b[0m \u001b[0mget_negpair_seq\u001b[0m\u001b[0;34m(\u001b[0m\u001b[0mdirectory\u001b[0m\u001b[0;34m,\u001b[0m \u001b[0mnegpairlist_filename\u001b[0m\u001b[0;34m)\u001b[0m\u001b[0;34m\u001b[0m\u001b[0m\n\u001b[0m\u001b[1;32m      5\u001b[0m \u001b[0mpospairs1\u001b[0m\u001b[0;34m,\u001b[0m \u001b[0mpospairs2\u001b[0m \u001b[0;34m=\u001b[0m \u001b[0mget_pospair_seq\u001b[0m\u001b[0;34m(\u001b[0m\u001b[0mdirectory\u001b[0m\u001b[0;34m,\u001b[0m \u001b[0mpospairlist_filename\u001b[0m\u001b[0;34m)\u001b[0m\u001b[0;34m\u001b[0m\u001b[0m\n\u001b[1;32m      6\u001b[0m \u001b[0mblosum50\u001b[0m \u001b[0;34m=\u001b[0m \u001b[0mread_score_matrix\u001b[0m\u001b[0;34m(\u001b[0m\u001b[0;34m'/Users/student/Winter2018/Algorithms/hw3_BMI203/matrices/BLOSUM50'\u001b[0m\u001b[0;34m)\u001b[0m\u001b[0;34m\u001b[0m\u001b[0m\n",
      "\u001b[0;32m<ipython-input-3-17ebfc5efd34>\u001b[0m in \u001b[0;36mget_negpair_seq\u001b[0;34m(filepath, negpairlist_filename)\u001b[0m\n\u001b[1;32m      5\u001b[0m     \u001b[0mOutput\u001b[0m\u001b[0;34m:\u001b[0m \u001b[0mList\u001b[0m \u001b[0mof\u001b[0m \u001b[0mnegative\u001b[0m \u001b[0mpairs\u001b[0m \u001b[0msequences\u001b[0m\u001b[0;34m\u001b[0m\u001b[0m\n\u001b[1;32m      6\u001b[0m     '''\n\u001b[0;32m----> 7\u001b[0;31m     \u001b[0mfiles\u001b[0m \u001b[0;34m=\u001b[0m \u001b[0mglob\u001b[0m\u001b[0;34m.\u001b[0m\u001b[0mglob\u001b[0m\u001b[0;34m(\u001b[0m\u001b[0mfilepath\u001b[0m \u001b[0;34m+\u001b[0m \u001b[0;34m'/*.fa'\u001b[0m\u001b[0;34m)\u001b[0m\u001b[0;34m\u001b[0m\u001b[0m\n\u001b[0m\u001b[1;32m      8\u001b[0m     \u001b[0mnegpair_list\u001b[0m \u001b[0;34m=\u001b[0m \u001b[0mopen\u001b[0m\u001b[0;34m(\u001b[0m\u001b[0mnegpairlist_filename\u001b[0m\u001b[0;34m)\u001b[0m\u001b[0;34m.\u001b[0m\u001b[0mread\u001b[0m\u001b[0;34m(\u001b[0m\u001b[0;34m)\u001b[0m\u001b[0;34m.\u001b[0m\u001b[0msplitlines\u001b[0m\u001b[0;34m(\u001b[0m\u001b[0;34m)\u001b[0m\u001b[0;34m\u001b[0m\u001b[0m\n\u001b[1;32m      9\u001b[0m     \u001b[0mneg_files\u001b[0m\u001b[0;34m,\u001b[0m \u001b[0mneg_files2\u001b[0m \u001b[0;34m=\u001b[0m \u001b[0;34m[\u001b[0m\u001b[0;34m]\u001b[0m\u001b[0;34m,\u001b[0m\u001b[0;34m[\u001b[0m\u001b[0;34m]\u001b[0m\u001b[0;34m\u001b[0m\u001b[0m\n",
      "\u001b[0;31mNameError\u001b[0m: name 'glob' is not defined"
     ]
    }
   ],
   "source": [
    "directory = '/Users/student/Winter2018/Algorithms/hw3_BMI203/sequences/'\n",
    "negpairlist_filename = '/Users/student/Winter2018/Algorithms/hw3_BMI203/Negpairs.txt'\n",
    "pospairlist_filename = '/Users/student/Winter2018/Algorithms/hw3_BMI203/Pospairs.txt'\n",
    "negpairs1, negpairs2 = get_negpair_seq(directory, negpairlist_filename)\n",
    "pospairs1, pospairs2 = get_pospair_seq(directory, pospairlist_filename)\n",
    "blosum50 = read_score_matrix('/Users/student/Winter2018/Algorithms/hw3_BMI203/matrices/BLOSUM50')\n",
    "blosum62 = read_score_matrix('/Users/student/Winter2018/Algorithms/hw3_BMI203/matrices/BLOSUM62')\n",
    "matio = read_score_matrix('/Users/student/Winter2018/Algorithms/hw3_BMI203/matrices/MATIO')\n",
    "pam100 = read_score_matrix('/Users/student/Winter2018/Algorithms/hw3_BMI203/matrices/PAM100')\n",
    "pam250 = read_score_matrix('/Users/student/Winter2018/Algorithms/hw3_BMI203/matrices/PAM250')"
   ]
  },
  {
   "cell_type": "code",
   "execution_count": null,
   "metadata": {},
   "outputs": [],
   "source": []
  }
 ],
 "metadata": {
  "kernelspec": {
   "display_name": "Python 3",
   "language": "python",
   "name": "python3"
  },
  "language_info": {
   "codemirror_mode": {
    "name": "ipython",
    "version": 3
   },
   "file_extension": ".py",
   "mimetype": "text/x-python",
   "name": "python",
   "nbconvert_exporter": "python",
   "pygments_lexer": "ipython3",
   "version": "3.6.3"
  }
 },
 "nbformat": 4,
 "nbformat_minor": 2
}
